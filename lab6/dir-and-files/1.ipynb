{
 "cells": [
  {
   "cell_type": "code",
   "execution_count": 61,
   "metadata": {},
   "outputs": [
    {
     "name": "stdout",
     "output_type": "stream",
     "text": [
      "Directories: ['.git']\n",
      "Files: ['1.ipynb', '2.ipynb', '3.ipynb', '4.ipynb', '5.ipynb', 'row.txt', 'WIN_20250130_18_11_43_Pro.jpg']\n",
      "All items: ['.git', '1.ipynb', '2.ipynb', '3.ipynb', '4.ipynb', '5.ipynb', 'row.txt', 'WIN_20250130_18_11_43_Pro.jpg']\n"
     ]
    }
   ],
   "source": [
    "import os\n",
    "path = input(\"Enter a path\")\n",
    "print(\"Directories:\", [d for d in os.listdir(path) if os.path.isdir(os.path.join(path, d))])\n",
    "print(\"Files:\", [f for f in os.listdir(path) if os.path.isfile(os.path.join(path, f))])\n",
    "print(\"All items:\", os.listdir(path))"
   ]
  },
  {
   "cell_type": "code",
   "execution_count": null,
   "metadata": {},
   "outputs": [],
   "source": []
  }
 ],
 "metadata": {
  "kernelspec": {
   "display_name": "Python 3",
   "language": "python",
   "name": "python3"
  },
  "language_info": {
   "codemirror_mode": {
    "name": "ipython",
    "version": 3
   },
   "file_extension": ".py",
   "mimetype": "text/x-python",
   "name": "python",
   "nbconvert_exporter": "python",
   "pygments_lexer": "ipython3",
   "version": "3.13.1"
  }
 },
 "nbformat": 4,
 "nbformat_minor": 2
}
