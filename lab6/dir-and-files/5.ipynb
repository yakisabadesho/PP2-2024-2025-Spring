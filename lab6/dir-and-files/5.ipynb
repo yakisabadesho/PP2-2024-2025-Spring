{
 "cells": [
  {
   "cell_type": "code",
   "execution_count": null,
   "metadata": {},
   "outputs": [],
   "source": [
    "filename = input(\"Enter the path to a file: \")\n",
    "data = input(\"Enter a list: \").split()\n",
    "with open(\"filename\", \"w\", encoding=\"utf-8\") as file:\n",
    "    for item in data:\n",
    "        file.write(item + \"\\n\")"
   ]
  }
 ],
 "metadata": {
  "kernelspec": {
   "display_name": "Python 3",
   "language": "python",
   "name": "python3"
  },
  "language_info": {
   "codemirror_mode": {
    "name": "ipython",
    "version": 3
   },
   "file_extension": ".py",
   "mimetype": "text/x-python",
   "name": "python",
   "nbconvert_exporter": "python",
   "pygments_lexer": "ipython3",
   "version": "3.13.1"
  }
 },
 "nbformat": 4,
 "nbformat_minor": 2
}
