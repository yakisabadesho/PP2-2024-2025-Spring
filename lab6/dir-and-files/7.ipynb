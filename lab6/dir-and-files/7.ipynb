{
 "cells": [
  {
   "cell_type": "code",
   "execution_count": null,
   "metadata": {},
   "outputs": [],
   "source": [
    "import os\n",
    "source_file = input(\"Enter a path to a source file\")\n",
    "destination_file = input(\"Enter a path to a destination file\")\n",
    "\n",
    "with open(source_file, \"r\") as src, open(destination_file, \"w\") as dest:\n",
    "    dest.write(src.read())"
   ]
  }
 ],
 "metadata": {
  "kernelspec": {
   "display_name": "Python 3",
   "language": "python",
   "name": "python3"
  },
  "language_info": {
   "name": "python",
   "version": "3.13.1"
  }
 },
 "nbformat": 4,
 "nbformat_minor": 2
}
