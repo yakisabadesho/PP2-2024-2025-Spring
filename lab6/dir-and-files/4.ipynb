{
 "cells": [
  {
   "cell_type": "code",
   "execution_count": 9,
   "metadata": {},
   "outputs": [
    {
     "name": "stdout",
     "output_type": "stream",
     "text": [
      "Number of lines: 149\n"
     ]
    }
   ],
   "source": [
    "import os\n",
    "filename = input(\"Enter the path to a file: \")\n",
    "with open(filename, \"r\", encoding=\"utf-8\") as file:\n",
    "    print(\"Number of lines:\", sum(1 for line in file))"
   ]
  }
 ],
 "metadata": {
  "kernelspec": {
   "display_name": "Python 3",
   "language": "python",
   "name": "python3"
  },
  "language_info": {
   "codemirror_mode": {
    "name": "ipython",
    "version": 3
   },
   "file_extension": ".py",
   "mimetype": "text/x-python",
   "name": "python",
   "nbconvert_exporter": "python",
   "pygments_lexer": "ipython3",
   "version": "3.13.1"
  }
 },
 "nbformat": 4,
 "nbformat_minor": 2
}
