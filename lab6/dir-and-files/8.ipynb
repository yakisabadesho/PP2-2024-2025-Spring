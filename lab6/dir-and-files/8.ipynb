{
 "cells": [
  {
   "cell_type": "code",
   "execution_count": null,
   "metadata": {},
   "outputs": [],
   "source": [
    "import os\n",
    "\n",
    "file_to_delete = input(\"Enter a path to a file:\")\n",
    "\n",
    "if os.path.exists(file_to_delete) and os.access(file_to_delete, os.W_OK):\n",
    "    os.remove(file_to_delete)\n",
    "    print(f\"{file_to_delete} deleted successfully.\")\n",
    "else:\n",
    "    print(\"File does not exist or cannot be deleted.\")"
   ]
  }
 ],
 "metadata": {
  "kernelspec": {
   "display_name": "Python 3",
   "language": "python",
   "name": "python3"
  },
  "language_info": {
   "name": "python",
   "version": "3.13.1"
  }
 },
 "nbformat": 4,
 "nbformat_minor": 2
}
