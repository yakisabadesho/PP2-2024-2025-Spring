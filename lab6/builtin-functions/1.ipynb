import math
nums = list(map(int, input().split()))
print (math.prod(nums))
