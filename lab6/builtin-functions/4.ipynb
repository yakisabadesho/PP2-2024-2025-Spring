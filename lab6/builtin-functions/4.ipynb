{
 "cells": [
  {
   "cell_type": "code",
   "execution_count": 5,
   "metadata": {},
   "outputs": [
    {
     "name": "stdout",
     "output_type": "stream",
     "text": [
      "Square root of 25100 after 2123 milliseconds is 158.42979517754858\n"
     ]
    }
   ],
   "source": [
    "import math\n",
    "from time import sleep\n",
    "def delay(fn, ms, *args):\n",
    "    sleep(ms / 1000)\n",
    "    return fn(*args)\n",
    "args = int(input(\"Enter the number:\"))\n",
    "ms = int(input(\"Enter the number of milliseconds:\"))\n",
    "\n",
    "result = (delay(lambda x: math.sqrt(x), ms, args))\n",
    "print(f\"Square root of {args} after {ms} milliseconds is {result}\")\n"
   ]
  }
 ],
 "metadata": {
  "kernelspec": {
   "display_name": "Python 3",
   "language": "python",
   "name": "python3"
  },
  "language_info": {
   "codemirror_mode": {
    "name": "ipython",
    "version": 3
   },
   "file_extension": ".py",
   "mimetype": "text/x-python",
   "name": "python",
   "nbconvert_exporter": "python",
   "pygments_lexer": "ipython3",
   "version": "3.13.1"
  }
 },
 "nbformat": 4,
 "nbformat_minor": 2
}
