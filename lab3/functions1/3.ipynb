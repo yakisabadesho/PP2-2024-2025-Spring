{
 "cells": [
  {
   "cell_type": "code",
   "execution_count": 4,
   "metadata": {},
   "outputs": [
    {
     "name": "stdout",
     "output_type": "stream",
     "text": [
      "Chickens: 23 Rabbits: 12\n"
     ]
    }
   ],
   "source": [
    "def solve(numheads, numlegs):\n",
    "    for chickens in range(numheads + 1): \n",
    "        rabbits = numheads - chickens \n",
    "        if (chickens * 2 + rabbits * 4) == numlegs: \n",
    "            return chickens, rabbits\n",
    "    return \"No solution\"\n",
    "numheads = int(input(\"Number of heads: \"))\n",
    "numlegs = int(input(\"Number of legs: \"))\n",
    "result = solve(numheads, numlegs)\n",
    "if result != \"No solution\":\n",
    "    print(\"Chickens:\", result[0], \"Rabbits:\", result[1])\n",
    "else:\n",
    "    print(\"There's no solution\")"
   ]
  },
  {
   "cell_type": "code",
   "execution_count": null,
   "metadata": {},
   "outputs": [],
   "source": []
  }
 ],
 "metadata": {
  "kernelspec": {
   "display_name": "Python 3",
   "language": "python",
   "name": "python3"
  },
  "language_info": {
   "codemirror_mode": {
    "name": "ipython",
    "version": 3
   },
   "file_extension": ".py",
   "mimetype": "text/x-python",
   "name": "python",
   "nbconvert_exporter": "python",
   "pygments_lexer": "ipython3",
   "version": "3.11.9"
  }
 },
 "nbformat": 4,
 "nbformat_minor": 2
}
