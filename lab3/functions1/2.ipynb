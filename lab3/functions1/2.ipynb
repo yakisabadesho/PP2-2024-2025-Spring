{
 "cells": [
  {
   "cell_type": "code",
   "execution_count": null,
   "metadata": {},
   "outputs": [
    {
     "name": "stdout",
     "output_type": "stream",
     "text": [
      "55.0°F is equal to 12.78°C.\n"
     ]
    }
   ],
   "source": [
    "def fahrenheit_to_celsius(fahrenheit):\n",
    "    return (5 / 9) * (fahrenheit - 32)\n",
    "fahrenheit = float(input(\"Enter temperature in fahrenheit: \"))\n",
    "celsius = fahrenheit_to_celsius(fahrenheit)\n",
    "print(f\"{fahrenheit}°F is {celsius:.2f}°C.\")"
   ]
  }
 ],
 "metadata": {
  "kernelspec": {
   "display_name": "Python 3",
   "language": "python",
   "name": "python3"
  },
  "language_info": {
   "codemirror_mode": {
    "name": "ipython",
    "version": 3
   },
   "file_extension": ".py",
   "mimetype": "text/x-python",
   "name": "python",
   "nbconvert_exporter": "python",
   "pygments_lexer": "ipython3",
   "version": "3.11.9"
  }
 },
 "nbformat": 4,
 "nbformat_minor": 2
}
