{
 "cells": [
  {
   "cell_type": "code",
   "execution_count": 1,
   "metadata": {},
   "outputs": [
    {
     "name": "stdout",
     "output_type": "stream",
     "text": [
      "Volume Calculator:\n",
      "Please choose a shape to calculate the volume:\n",
      "1. Cube\n",
      "2. Sphere\n",
      "The volume of the cube is: 125.0\n"
     ]
    }
   ],
   "source": [
    "import math\n",
    "\n",
    "def cube_volume(side):\n",
    "    return side ** 3\n",
    "def sphere_volume(radius):\n",
    "    return (4/3) * math.pi * (radius ** 3)\n",
    "def volume_calculator():\n",
    "    print(\"Volume Calculator:\")\n",
    "    print(\"Please choose a shape to calculate the volume:\")\n",
    "    print(\"1. Cube\")\n",
    "    print(\"2. Sphere\")\n",
    "    choice = input(\"Choose a shape: \")\n",
    "    if choice == '1':\n",
    "        side = float(input(\"Enter the side length of the cube: \"))\n",
    "        volume = cube_volume(side)\n",
    "        print(\"The volume of the cube is:\", volume)\n",
    "    elif choice == '2':\n",
    "        radius = float(input(\"Enter the radius of the sphere: \"))\n",
    "        volume = sphere_volume(radius)\n",
    "        print(\"The volume of the sphere is:\", volume)\n",
    "    else:\n",
    "        print(\"Invalid choice. Please select a valid option.\")\n",
    "volume_calculator()"
   ]
  }
 ],
 "metadata": {
  "kernelspec": {
   "display_name": "Python 3",
   "language": "python",
   "name": "python3"
  },
  "language_info": {
   "codemirror_mode": {
    "name": "ipython",
    "version": 3
   },
   "file_extension": ".py",
   "mimetype": "text/x-python",
   "name": "python",
   "nbconvert_exporter": "python",
   "pygments_lexer": "ipython3",
   "version": "3.11.9"
  }
 },
 "nbformat": 4,
 "nbformat_minor": 2
}
