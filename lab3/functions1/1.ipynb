{
 "cells": [
  {
   "cell_type": "code",
   "execution_count": null,
   "metadata": {},
   "outputs": [
    {
     "name": "stdout",
     "output_type": "stream",
     "text": [
      "500.0 grams = 14174.76 ounces.\n"
     ]
    }
   ],
   "source": [
    "def grams_to_ounces(grams):\n",
    "    return grams * 28.3495231\n",
    "grams = float(input(\"Enter weight in grams: \"))\n",
    "ounces = grams_to_ounces(grams)\n",
    "print(f\"{grams} grams = {ounces:.2f} ounces.\")"
   ]
  }
 ],
 "metadata": {
  "kernelspec": {
   "display_name": "Python 3",
   "language": "python",
   "name": "python3"
  },
  "language_info": {
   "codemirror_mode": {
    "name": "ipython",
    "version": 3
   },
   "file_extension": ".py",
   "mimetype": "text/x-python",
   "name": "python",
   "nbconvert_exporter": "python",
   "pygments_lexer": "ipython3",
   "version": "3.11.9"
  }
 },
 "nbformat": 4,
 "nbformat_minor": 2
}
