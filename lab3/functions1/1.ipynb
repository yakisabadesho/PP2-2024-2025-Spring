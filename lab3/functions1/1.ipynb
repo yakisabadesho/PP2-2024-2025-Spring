{
 "cells": [
  {
   "cell_type": "code",
   "execution_count": 5,
   "metadata": {},
   "outputs": [
    {
     "name": "stdout",
     "output_type": "stream",
     "text": [
      "500.0 grams = 14174.76155 ounces.\n"
     ]
    }
   ],
   "source": [
    "def grams_to_ounces(grams):\n",
    "    return grams * 28.3495231\n",
    "grams = float(input(\"Enter weight in grams: \"))\n",
    "ounces = grams_to_ounces(grams)\n",
    "print(grams, \"grams =\", ounces, \"ounces.\")"
   ]
  }
 ],
 "metadata": {
  "kernelspec": {
   "display_name": "Python 3",
   "language": "python",
   "name": "python3"
  },
  "language_info": {
   "codemirror_mode": {
    "name": "ipython",
    "version": 3
   },
   "file_extension": ".py",
   "mimetype": "text/x-python",
   "name": "python",
   "nbconvert_exporter": "python",
   "pygments_lexer": "ipython3",
   "version": "3.11.9"
  }
 },
 "nbformat": 4,
 "nbformat_minor": 2
}
