{
 "cells": [
  {
   "cell_type": "code",
   "execution_count": 1,
   "metadata": {},
   "outputs": [
    {
     "name": "stdout",
     "output_type": "stream",
     "text": [
      "OPA\n"
     ]
    }
   ],
   "source": [
    "class default:\n",
    "    def __init__(self):\n",
    "        self.userInput = \"\"\n",
    "    def getString (self):\n",
    "        self.userInput = input(\"Write something here:\")\n",
    "       \n",
    "    def printString (self):\n",
    "        print(self.userInput.upper())\n",
    "i = default()\n",
    "i.getString()\n",
    "i.printString()"
   ]
  }
 ],
 "metadata": {
  "kernelspec": {
   "display_name": "Python 3",
   "language": "python",
   "name": "python3"
  },
  "language_info": {
   "codemirror_mode": {
    "name": "ipython",
    "version": 3
   },
   "file_extension": ".py",
   "mimetype": "text/x-python",
   "name": "python",
   "nbconvert_exporter": "python",
   "pygments_lexer": "ipython3",
   "version": "3.13.1"
  }
 },
 "nbformat": 4,
 "nbformat_minor": 2
}
