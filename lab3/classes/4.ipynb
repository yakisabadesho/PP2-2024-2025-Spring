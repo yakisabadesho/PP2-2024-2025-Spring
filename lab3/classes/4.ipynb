{
 "cells": [
  {
   "cell_type": "code",
   "execution_count": 2,
   "metadata": {},
   "outputs": [
    {
     "name": "stdout",
     "output_type": "stream",
     "text": [
      "1. Show coordinates\n",
      "2. Move point\n",
      "3. Check the distance between points\n",
      "4. Exit\n",
      "1. Show coordinates\n",
      "2. Move point\n",
      "3. Check the distance between points\n",
      "4. Exit\n",
      "Distance:  7.810249675906654\n",
      "1. Show coordinates\n",
      "2. Move point\n",
      "3. Check the distance between points\n",
      "4. Exit\n"
     ]
    }
   ],
   "source": [
    "import math\n",
    "class Point:\n",
    "    def __init__(self, x, y):\n",
    "        self.x = x\n",
    "        self.y = y\n",
    "    def show(self):\n",
    "        print(\"Coordinates: x = \", self.x, \", y = \", self.y)\n",
    "    def move(self):\n",
    "        self.x = int(input(\"Set new value for x: \"))\n",
    "        self.y = int(input(\"Set new value for y: \"))\n",
    "    def dist(self, other):\n",
    "        print (\"Distance: \", math.sqrt(((self.x - other.x)**2) + ((self.y - other.y)**2)))\n",
    "p1 = Point(0, 0)\n",
    "p2 = Point(0, 0)\n",
    "\n",
    "while True:\n",
    "    print(\"1. Show coordinates\")\n",
    "    print(\"2. Move point\")\n",
    "    print(\"3. Check the distance between points\")\n",
    "    print(\"4. Exit\")\n",
    "    choice = input(\"Choose an option\")\n",
    "    if choice == \"3\":\n",
    "        p1.dist(p2)\n",
    "        continue\n",
    "    elif choice == \"4\":\n",
    "        break\n",
    "    pointChoice = input(\"Choose the point (1|2)\")\n",
    "    if (choice == \"1\"):\n",
    "        if (pointChoice == \"1\"):\n",
    "            p1.show()\n",
    "        elif (pointChoice == \"2\"):\n",
    "            p2.show()\n",
    "    elif (choice == \"2\"):\n",
    "        if (pointChoice == \"1\"):\n",
    "            p1.move()\n",
    "        elif (pointChoice == \"2\"):\n",
    "            p2.move()"
   ]
  },
  {
   "cell_type": "code",
   "execution_count": null,
   "metadata": {},
   "outputs": [],
   "source": []
  }
 ],
 "metadata": {
  "kernelspec": {
   "display_name": "Python 3",
   "language": "python",
   "name": "python3"
  },
  "language_info": {
   "codemirror_mode": {
    "name": "ipython",
    "version": 3
   },
   "file_extension": ".py",
   "mimetype": "text/x-python",
   "name": "python",
   "nbconvert_exporter": "python",
   "pygments_lexer": "ipython3",
   "version": "3.13.1"
  }
 },
 "nbformat": 4,
 "nbformat_minor": 2
}
