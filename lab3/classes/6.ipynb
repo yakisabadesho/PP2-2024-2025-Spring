{
 "cells": [
  {
   "cell_type": "code",
   "execution_count": 3,
   "metadata": {},
   "outputs": [
    {
     "name": "stdout",
     "output_type": "stream",
     "text": [
      "Prime numbers: [2, 3, 5, 7]\n"
     ]
    }
   ],
   "source": [
    "class prime_filter:\n",
    "    def __init__(self, numbers):\n",
    "        self.numbers = numbers\n",
    "\n",
    "    def is_prime(self, num):\n",
    "        return num > 1 and all(num % i != 0 for i in range(2, int(num**0.5) + 1))\n",
    "\n",
    "    def get_primes(self):\n",
    "        return list(filter(self.is_prime, self.numbers))\n",
    "\n",
    "user_input = input(\"Enter numbers separated by space: \")\n",
    "numbers = list(map(int, user_input.split()))\n",
    "prime_filter = prime_filter(numbers)\n",
    "prime_numbers = prime_filter.get_primes()\n",
    "print(\"Prime numbers:\", prime_numbers)"
   ]
  }
 ],
 "metadata": {
  "kernelspec": {
   "display_name": "Python 3",
   "language": "python",
   "name": "python3"
  },
  "language_info": {
   "codemirror_mode": {
    "name": "ipython",
    "version": 3
   },
   "file_extension": ".py",
   "mimetype": "text/x-python",
   "name": "python",
   "nbconvert_exporter": "python",
   "pygments_lexer": "ipython3",
   "version": "3.11.9"
  }
 },
 "nbformat": 4,
 "nbformat_minor": 2
}
