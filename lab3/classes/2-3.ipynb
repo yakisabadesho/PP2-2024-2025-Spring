{
 "cells": [
  {
   "cell_type": "code",
   "execution_count": 1,
   "metadata": {},
   "outputs": [
    {
     "name": "stdout",
     "output_type": "stream",
     "text": [
      "The area of the rectangle is: 20.0\n"
     ]
    }
   ],
   "source": [
    "class Shape:\n",
    "    def area(self):\n",
    "        return 0\n",
    "class Square(Shape):\n",
    "    def __init__ (self):\n",
    "        self.length = 0\n",
    "    def getLength(self):\n",
    "        self.length = float(input(\"Please enter the length of the square's side: \"))\n",
    "    def area(self):\n",
    "        print(\"The area of the square is:\", self.length * self.length)\n",
    "class Rectangle(Shape):\n",
    "    def __init__ (self):\n",
    "        self.length = 0\n",
    "    def getLength(self):\n",
    "        self.length = float(input(\"Please enter the length of the rectangle: \"))\n",
    "    def getWidth(self):\n",
    "        self.width = float(input(\"Please enter the width of the rectangle: \"))\n",
    "    def area(self):\n",
    "        print(\"The area of the rectangle is:\", self.length * self.width)\n",
    "    \n",
    "choice = input(\"Please enter the name of the shape you wish to calculate the area of (Square/Rectangle) :\")\n",
    "if choice == \"Square\":\n",
    "    shape = Square()\n",
    "    shape.getLength()  \n",
    "    shape.area()\n",
    "elif choice == \"Rectangle\":\n",
    "    shape = Rectangle()\n",
    "    shape.getLength()\n",
    "    shape.getWidth()\n",
    "    shape.area()\n",
    "else:\n",
    "    print (\"Please write either Square or Rectangle, try again\")\n",
    "\n",
    "\n"
   ]
  }
 ],
 "metadata": {
  "kernelspec": {
   "display_name": "Python 3",
   "language": "python",
   "name": "python3"
  },
  "language_info": {
   "codemirror_mode": {
    "name": "ipython",
    "version": 3
   },
   "file_extension": ".py",
   "mimetype": "text/x-python",
   "name": "python",
   "nbconvert_exporter": "python",
   "pygments_lexer": "ipython3",
   "version": "3.13.1"
  }
 },
 "nbformat": 4,
 "nbformat_minor": 2
}
