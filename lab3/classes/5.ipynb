{
 "cells": [
  {
   "cell_type": "code",
   "execution_count": 6,
   "metadata": {},
   "outputs": [
    {
     "name": "stdout",
     "output_type": "stream",
     "text": [
      "1. Deposit\n",
      "2. Withdraw\n",
      "3. Exit\n",
      "Deposited: 42. New balance: 542\n",
      "1. Deposit\n",
      "2. Withdraw\n",
      "3. Exit\n"
     ]
    }
   ],
   "source": [
    "class Account:\n",
    "    def __init__(self, owner, balance=0):\n",
    "        self.owner = owner\n",
    "        self.balance = balance\n",
    "\n",
    "    def deposit(self, amount):\n",
    "        if amount > 0:\n",
    "            self.balance += amount\n",
    "            print(f\"Deposited: {amount}. New balance: {self.balance}\")\n",
    "        else:\n",
    "            print(\"Deposit amount must be positive.\")\n",
    "\n",
    "    def withdraw(self, amount):\n",
    "        if 0 < amount <= self.balance:\n",
    "            self.balance -= amount\n",
    "            print(f\"Withdrawn: {amount}. New balance: {self.balance}\")\n",
    "        else:\n",
    "            print(\"Insufficient funds or invalid withdrawal amount.\")\n",
    "\n",
    "owner_name = input(\"Please enter the account owner's name:\")\n",
    "initial_balance = int(input(\"Please enter the account's initial balance\"))\n",
    "account = Account(owner_name, initial_balance)\n",
    "while True:\n",
    "    print(\"1. Deposit\")\n",
    "    print(\"2. Withdraw\")\n",
    "    print(\"3. Exit\")\n",
    "    choice = input(\"Choose an option: \")\n",
    "    if choice == \"1\" :\n",
    "        amount = int(input(\"Amount to deposit: \"))\n",
    "        account.deposit(amount)\n",
    "    elif choice == \"2\":\n",
    "        amount = int(input(\"Amount to withdraw: \"))\n",
    "        account.withdraw(amount)\n",
    "    elif choice == \"3\":\n",
    "        break"
   ]
  }
 ],
 "metadata": {
  "kernelspec": {
   "display_name": "Python 3",
   "language": "python",
   "name": "python3"
  },
  "language_info": {
   "codemirror_mode": {
    "name": "ipython",
    "version": 3
   },
   "file_extension": ".py",
   "mimetype": "text/x-python",
   "name": "python",
   "nbconvert_exporter": "python",
   "pygments_lexer": "ipython3",
   "version": "3.11.9"
  }
 },
 "nbformat": 4,
 "nbformat_minor": 2
}
