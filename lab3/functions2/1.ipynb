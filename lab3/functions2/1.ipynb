{
 "cells": [
  {
   "cell_type": "code",
   "execution_count": 6,
   "metadata": {},
   "outputs": [
    {
     "name": "stdout",
     "output_type": "stream",
     "text": [
      "Menu:\n",
      "1. Check if a movie's IMDB score is above 5.5\n",
      "2. Sublist of movies with IMDB scores above 5.5\n",
      "3. List of movies from a specific category\n",
      "4. Check average IMDB score of the list\n",
      "5. Check the average IMDB score of a category\n",
      "6. Exit\n",
      "True\n",
      "Menu:\n",
      "1. Check if a movie's IMDB score is above 5.5\n",
      "2. Sublist of movies with IMDB scores above 5.5\n",
      "3. List of movies from a specific category\n",
      "4. Check average IMDB score of the list\n",
      "5. Check the average IMDB score of a category\n",
      "6. Exit\n"
     ]
    }
   ],
   "source": [
    "movies = [\n",
    "    {\"name\": \"Usual Suspects\", \"imdb\": 7.0, \"category\": \"Thriller\"},\n",
    "    {\"name\": \"Hitman\", \"imdb\": 6.3, \"category\": \"Action\"},\n",
    "    {\"name\": \"Dark Knight\", \"imdb\": 9.0, \"category\": \"Adventure\"},\n",
    "    {\"name\": \"The Help\", \"imdb\": 8.0, \"category\": \"Drama\"},\n",
    "    {\"name\": \"The Choice\", \"imdb\": 6.2, \"category\": \"Romance\"},\n",
    "    {\"name\": \"Colonia\", \"imdb\": 7.4, \"category\": \"Romance\"},\n",
    "    {\"name\": \"Love\", \"imdb\": 6.0, \"category\": \"Romance\"},\n",
    "    {\"name\": \"Bride Wars\", \"imdb\": 5.4, \"category\": \"Romance\"},\n",
    "    {\"name\": \"AlphaJet\", \"imdb\": 3.2, \"category\": \"War\"},\n",
    "    {\"name\": \"Ringing Crime\", \"imdb\": 4.0, \"category\": \"Crime\"},\n",
    "    {\"name\": \"Joking muck\", \"imdb\": 7.2, \"category\": \"Comedy\"},\n",
    "    {\"name\": \"What is the name\", \"imdb\": 9.2, \"category\": \"Suspense\"},\n",
    "    {\"name\": \"Detective\", \"imdb\": 7.0, \"category\": \"Suspense\"},\n",
    "    {\"name\": \"Exam\", \"imdb\": 4.2, \"category\": \"Thriller\"},\n",
    "    {\"name\": \"We Two\", \"imdb\": 7.2, \"category\": \"Romance\"}\n",
    "]\n",
    "\n",
    "def is_above_5_5(movie):\n",
    "    return movie[\"imdb\"] > 5.5\n",
    "\n",
    "def movies_above_5_5(movies):\n",
    "    return [movie for movie in movies if movie[\"imdb\"] > 5.5]\n",
    "\n",
    "def movies_by_category(movies, category):\n",
    "    return [movie for movie in movies if movie[\"category\"] == category]\n",
    "\n",
    "def average_imdb_score(movies):\n",
    "    total_score = sum(movie[\"imdb\"] for movie in movies)\n",
    "    return total_score / len(movies)\n",
    "\n",
    "def average_imdb_score_by_category(movies, category):\n",
    "    category_movies = movies_by_category(movies, category)\n",
    "    return average_imdb_score(category_movies)\n",
    "\n",
    "while True:\n",
    "    print(\"Menu:\")\n",
    "    print(\"1. Check if a movie's IMDB score is above 5.5\")\n",
    "    print(\"2. Sublist of movies with IMDB scores above 5.5\")\n",
    "    print(\"3. List of movies from a specific category\")\n",
    "    print(\"4. Check average IMDB score of the list\")\n",
    "    print(\"5. Check the average IMDB score of a category\")\n",
    "    print(\"6. Exit\")\n",
    "    c = input(\"Please choose an option from the menu:\")\n",
    "    if c == \"1\":\n",
    "        cc = int(input(\"Please enter the index of the movie in the list:\"))\n",
    "        print(is_above_5_5(movies[cc]))\n",
    "    elif c == \"2\":\n",
    "        print(movies_above_5_5(movies))\n",
    "    elif c == \"3\":\n",
    "        cc = input(\"Please enter the category from the list:\")\n",
    "        print(movies_by_category(movies, cc))\n",
    "    elif c == \"4\":\n",
    "        print(average_imdb_score(movies))\n",
    "    elif c == \"5\":\n",
    "        cc = input(\"Please enter the category from the list:\")\n",
    "        print(average_imdb_score_by_category(movies, cc))\n",
    "    elif c == \"6\":\n",
    "        break"
   ]
  },
  {
   "cell_type": "code",
   "execution_count": null,
   "metadata": {},
   "outputs": [],
   "source": []
  }
 ],
 "metadata": {
  "kernelspec": {
   "display_name": "Python 3",
   "language": "python",
   "name": "python3"
  },
  "language_info": {
   "codemirror_mode": {
    "name": "ipython",
    "version": 3
   },
   "file_extension": ".py",
   "mimetype": "text/x-python",
   "name": "python",
   "nbconvert_exporter": "python",
   "pygments_lexer": "ipython3",
   "version": "3.11.9"
  }
 },
 "nbformat": 4,
 "nbformat_minor": 2
}
