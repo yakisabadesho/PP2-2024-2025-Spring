{
 "cells": [
  {
   "cell_type": "code",
   "execution_count": null,
   "metadata": {},
   "outputs": [
    {
     "name": "stdout",
     "output_type": "stream",
     "text": [
      "Five days ago: 2025-02-14\n"
     ]
    }
   ],
   "source": [
    "from datetime import datetime, timedelta\n",
    "current = datetime.now()\n",
    "five_days_ago = current - timedelta(days=5)\n",
    "print(\"Five days ago:\", five_days_ago.strftime(\"%Y-%m-%d\"))"
   ]
  }
 ],
 "metadata": {
  "kernelspec": {
   "display_name": "Python 3",
   "language": "python",
   "name": "python3"
  },
  "language_info": {
   "codemirror_mode": {
    "name": "ipython",
    "version": 3
   },
   "file_extension": ".py",
   "mimetype": "text/x-python",
   "name": "python",
   "nbconvert_exporter": "python",
   "pygments_lexer": "ipython3",
   "version": "3.13.1"
  }
 },
 "nbformat": 4,
 "nbformat_minor": 2
}
