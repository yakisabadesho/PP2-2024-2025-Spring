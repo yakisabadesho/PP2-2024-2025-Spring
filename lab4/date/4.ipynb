{
 "cells": [
  {
   "cell_type": "code",
   "execution_count": null,
   "metadata": {},
   "outputs": [
    {
     "name": "stdout",
     "output_type": "stream",
     "text": [
      "Difference between dates in seconds: 47230634.0\n"
     ]
    }
   ],
   "source": [
    "from datetime import datetime, timedelta\n",
    "date1_input = input(\"First date (YYYY-MM-DD HH:MM:SS):\")\n",
    "date2_input = input(\"Second date (YYYY-MM-DD HH:MM:SS):\")\n",
    "date1 = datetime.strptime(date1_input, \"%Y-%m-%d %H:%M:%S\")\n",
    "date2 = datetime.strptime(date2_input, \"%Y-%m-%d %H:%M:%S\")\n",
    "difference_in_seconds = abs((date2 - date1).total_seconds())\n",
    "print(\"Difference between dates in seconds:\", difference_in_seconds)\n"
   ]
  }
 ],
 "metadata": {
  "kernelspec": {
   "display_name": "Python 3",
   "language": "python",
   "name": "python3"
  },
  "language_info": {
   "codemirror_mode": {
    "name": "ipython",
    "version": 3
   },
   "file_extension": ".py",
   "mimetype": "text/x-python",
   "name": "python",
   "nbconvert_exporter": "python",
   "pygments_lexer": "ipython3",
   "version": "3.13.1"
  }
 },
 "nbformat": 4,
 "nbformat_minor": 2
}
