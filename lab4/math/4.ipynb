{
 "cells": [
  {
   "cell_type": "code",
   "execution_count": 2,
   "metadata": {},
   "outputs": [
    {
     "name": "stdout",
     "output_type": "stream",
     "text": [
      "Expected Output (Area of parallelogram): 48.0\n"
     ]
    }
   ],
   "source": [
    "import math\n",
    "base = float(input(\"Length of base: \"))\n",
    "height_parallelogram = float(input(\"Height of parallelogram: \"))\n",
    "area_parallelogram = base * height_parallelogram\n",
    "print(f\"Expected Output (Area of parallelogram): {area_parallelogram}\")"
   ]
  }
 ],
 "metadata": {
  "kernelspec": {
   "display_name": "Python 3",
   "language": "python",
   "name": "python3"
  },
  "language_info": {
   "codemirror_mode": {
    "name": "ipython",
    "version": 3
   },
   "file_extension": ".py",
   "mimetype": "text/x-python",
   "name": "python",
   "nbconvert_exporter": "python",
   "pygments_lexer": "ipython3",
   "version": "3.13.1"
  }
 },
 "nbformat": 4,
 "nbformat_minor": 2
}
