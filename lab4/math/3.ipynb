{
 "cells": [
  {
   "cell_type": "code",
   "execution_count": 4,
   "metadata": {},
   "outputs": [
    {
     "name": "stdout",
     "output_type": "stream",
     "text": [
      "The area of the polygon is: 6.928203230275511\n"
     ]
    }
   ],
   "source": [
    "import math\n",
    "num_sides = int(input(\"Input number of sides: \"))\n",
    "side_length = float(input(\"Input the length of a side: \"))\n",
    "area_polygon = (num_sides * side_length ** 2) / (4 * math.tan(math.pi / num_sides))\n",
    "print(f\"The area of the polygon is: {area_polygon}\")"
   ]
  }
 ],
 "metadata": {
  "kernelspec": {
   "display_name": "Python 3",
   "language": "python",
   "name": "python3"
  },
  "language_info": {
   "codemirror_mode": {
    "name": "ipython",
    "version": 3
   },
   "file_extension": ".py",
   "mimetype": "text/x-python",
   "name": "python",
   "nbconvert_exporter": "python",
   "pygments_lexer": "ipython3",
   "version": "3.13.1"
  }
 },
 "nbformat": 4,
 "nbformat_minor": 2
}
