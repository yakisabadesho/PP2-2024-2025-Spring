{
 "cells": [
  {
   "cell_type": "code",
   "execution_count": null,
   "metadata": {},
   "outputs": [
    {
     "name": "stdout",
     "output_type": "stream",
     "text": [
      "camel_case\n"
     ]
    }
   ],
   "source": [
    "import re\n",
    "def first(contents):\n",
    "    pattern = r\"ab*\"\n",
    "    print(re.findall(pattern, contents))\n",
    "def second(contents):\n",
    "    pattern = r\"ab{2,3}\"\n",
    "    print(re.findall(pattern, contents))\n",
    "def third(contents):\n",
    "    pattern = r\"[a-z]+_[a-z]+\"\n",
    "    print(re.findall(pattern, contents))\n",
    "def fourth(contents):\n",
    "    pattern = r\"[A-Z]{1}_[a-z]+\"\n",
    "    print(re.findall(pattern, contents))\n",
    "def fifth(contents):\n",
    "    pattern = r\"a.*b$\"\n",
    "    print(re.findall(pattern, contents))\n",
    "def sixth(contents):\n",
    "    print(re.sub(' |,|.', ':', contents))\n",
    "def seventh(contents):\n",
    "    print(re.sub(r'_([a-zA-Z])', lambda match: match.group(1).upper(), contents))\n",
    "def eighth(contents):\n",
    "    print(re.split(r'([A-Z])', contents))\n",
    "def ninth(contents):\n",
    "    print(re.sub(r'(?<!^)(?=[A-Z])', ' ', contents))\n",
    "def tenth(contents):\n",
    "    print(re.sub(r'(?<!^)(?=[A-Z])', '_', contents).lower())\n",
    "\n",
    "\n",
    "contents = input(\"Input a string: \")\n",
    "tenth(contents) "
   ]
  },
  {
   "cell_type": "code",
   "execution_count": null,
   "metadata": {},
   "outputs": [],
   "source": []
  }
 ],
 "metadata": {
  "kernelspec": {
   "display_name": "Python 3",
   "language": "python",
   "name": "python3"
  },
  "language_info": {
   "codemirror_mode": {
    "name": "ipython",
    "version": 3
   },
   "file_extension": ".py",
   "mimetype": "text/x-python",
   "name": "python",
   "nbconvert_exporter": "python",
   "pygments_lexer": "ipython3",
   "version": "3.13.1"
  }
 },
 "nbformat": 4,
 "nbformat_minor": 2
}
